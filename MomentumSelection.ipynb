{
 "cells": [
  {
   "cell_type": "code",
   "execution_count": 19,
   "metadata": {},
   "outputs": [
    {
     "name": "stderr",
     "output_type": "stream",
     "text": [
      "/Users/user/ski_examples/tutorial/lib/python3.7/site-packages/ipykernel_launcher.py:21: UserWarning: Matplotlib is currently using module://ipykernel.pylab.backend_inline, which is a non-GUI backend, so cannot show the figure.\n"
     ]
    },
    {
     "data": {
      "image/png": "[encoded data removed]",
      "text/plain": [
       "<Figure size 432x288 with 1 Axes>"
      ]
     },
     "metadata": {
      "needs_background": "light"
     },
     "output_type": "display_data"
    }
   ],
   "source": [
    "import uproot\n",
    "import matplotlib.pyplot as plt\n",
    "\n",
    "\n",
    "file = uproot.open(\"../RootFiles/HigherStatLooseCutsNewCluster.root\")\n",
    "\n",
    "cosmics = file[\"CosmicTrackDetails\"][\"cosmic_tree\"] # opens the 'trkana' tree in the 'TrkAnaNeg' folder\n",
    "\n",
    "momFull = cosmics[\"Momentum\"].array() \n",
    "DOCAFull = cosmics[\"TrueDOCAs\"].array() \n",
    "vals = []\n",
    "for i,h in enumerate(momFull):\n",
    "        if h > 20000:\n",
    "             vals.append(h)\n",
    "                \n",
    "fig, ax = plt.subplots(1,1)\n",
    "n, bins, patches = ax.hist(x=vals,\n",
    "                           bins=20, \n",
    "                           range=(0,100000), \n",
    "                           label=\"cosmics\")\n",
    "fig.show()"
   ]
  },
  {
   "cell_type": "code",
   "execution_count": 31,
   "metadata": {},
   "outputs": [
    {
     "name": "stderr",
     "output_type": "stream",
     "text": [
      "/Users/user/ski_examples/tutorial/lib/python3.7/site-packages/ipykernel_launcher.py:33: UserWarning: Matplotlib is currently using module://ipykernel.pylab.backend_inline, which is a non-GUI backend, so cannot show the figure.\n"
     ]
    },
    {
     "data": {
      "image/png": "[encoded data removed]",
      "text/plain": [
       "<Figure size 432x288 with 1 Axes>"
      ]
     },
     "metadata": {
      "needs_background": "light"
     },
     "output_type": "display_data"
    }
   ],
   "source": [
    "import uproot\n",
    "import matplotlib.pyplot as plt\n",
    "\n",
    "\n",
    "file = uproot.open(\"../RootFiles/HigherStatLooseCutsNewCluster.root\")\n",
    "\n",
    "cosmics = file[\"CosmicTrackDetails\"][\"cosmic_tree\"] # opens the 'trkana' tree in the 'TrkAnaNeg' folder\n",
    "\n",
    "momFull = cosmics[\"Momentum\"].array() \n",
    "TrueDOCAFull = cosmics[\"TrueDOCAs\"].array() \n",
    "RecoDOCAFull = cosmics[\"FitDOCAs\"].array() \n",
    "TrueA0Full = cosmics[\"TrueA0\"].array()\n",
    "TrueA1Full = cosmics[\"TrueA1\"].array() \n",
    "TrueB0Full = cosmics[\"TrueB0\"].array() \n",
    "TrueB1Full = cosmics[\"TrueB1\"].array() \n",
    "\n",
    "RecoA0Full = cosmics[\"MinuitA0\"].array()\n",
    "RecoA1Full = cosmics[\"MinuitA1\"].array() \n",
    "RecoB0Full = cosmics[\"MinuitB0\"].array() \n",
    "RecoB1Full = cosmics[\"MinuitB1\"].array() \n",
    "\n",
    "selected = []\n",
    "for i,h in enumerate(momFull):\n",
    "        if h > 1000:\n",
    "                for j, v in enumerate(RecoDOCAFull[i] - TrueDOCAFull[i]):\n",
    "                    selected.append(v)\n",
    "        \n",
    "fig, ax = plt.subplots(1,1)\n",
    "n, bins, patches = ax.hist(x=selected,\n",
    "                           bins=20, \n",
    "                           range=(-2.5,2.5), \n",
    "                           label=\"cosmics\")\n",
    "fig.show()"
   ]
  },
  {
   "cell_type": "code",
   "execution_count": 42,
   "metadata": {},
   "outputs": [
    {
     "name": "stderr",
     "output_type": "stream",
     "text": [
      "/Users/user/ski_examples/tutorial/lib/python3.7/site-packages/ipykernel_launcher.py:33: UserWarning: Matplotlib is currently using module://ipykernel.pylab.backend_inline, which is a non-GUI backend, so cannot show the figure.\n"
     ]
    },
    {
     "data": {
      "image/png": "[encoded data removed]",
      "text/plain": [
       "<Figure size 432x288 with 1 Axes>"
      ]
     },
     "metadata": {
      "needs_background": "light"
     },
     "output_type": "display_data"
    }
   ],
   "source": [
    "import uproot\n",
    "import matplotlib.pyplot as plt\n",
    "\n",
    "\n",
    "file = uproot.open(\"../RootFiles/HigherStatLooseCutsNewCluster.root\")\n",
    "\n",
    "cosmics = file[\"CosmicTrackDetails\"][\"cosmic_tree\"] # opens the 'trkana' tree in the 'TrkAnaNeg' folder\n",
    "\n",
    "momFull = cosmics[\"Momentum\"].array() \n",
    "TrueDOCAFull = cosmics[\"TrueDOCAs\"].array() \n",
    "RecoDOCAFull = cosmics[\"FitDOCAs\"].array() \n",
    "TrueA0Full = cosmics[\"TrueA0\"].array()\n",
    "TrueA1Full = cosmics[\"TrueA1\"].array() \n",
    "TrueB0Full = cosmics[\"TrueB0\"].array() \n",
    "TrueB1Full = cosmics[\"TrueB1\"].array() \n",
    "\n",
    "RecoA0Full = cosmics[\"MinuitA0\"].array()\n",
    "RecoA1Full = cosmics[\"MinuitA1\"].array() \n",
    "RecoB0Full = cosmics[\"MinuitB0\"].array() \n",
    "RecoB1Full = cosmics[\"MinuitB1\"].array() \n",
    "\n",
    "selected = []\n",
    "for i,h in enumerate(momFull):\n",
    "        if h > 2000:\n",
    "                v = (RecoA0Full[i] - TrueA0Full[i])\n",
    "                selected.append(v)\n",
    "        \n",
    "fig, ax = plt.subplots(1,1)\n",
    "n, bins, patches = ax.hist(x=selected,\n",
    "                           bins=50, \n",
    "                           range=(-50,50), \n",
    "                           label=\"cosmics\")\n",
    "fig.show()"
   ]
  },
  {
   "cell_type": "code",
   "execution_count": 43,
   "metadata": {},
   "outputs": [
    {
     "name": "stderr",
     "output_type": "stream",
     "text": [
      "/Users/user/ski_examples/tutorial/lib/python3.7/site-packages/ipykernel_launcher.py:33: UserWarning: Matplotlib is currently using module://ipykernel.pylab.backend_inline, which is a non-GUI backend, so cannot show the figure.\n"
     ]
    },
    {
     "data": {
      "image/png": "[encoded data removed]",
      "text/plain": [
       "<Figure size 432x288 with 1 Axes>"
      ]
     },
     "metadata": {
      "needs_background": "light"
     },
     "output_type": "display_data"
    }
   ],
   "source": [
    "import uproot\n",
    "import matplotlib.pyplot as plt\n",
    "\n",
    "\n",
    "file = uproot.open(\"../RootFiles/HigherStatLooseCutsNewCluster.root\")\n",
    "\n",
    "cosmics = file[\"CosmicTrackDetails\"][\"cosmic_tree\"] # opens the 'trkana' tree in the 'TrkAnaNeg' folder\n",
    "\n",
    "momFull = cosmics[\"Momentum\"].array() \n",
    "TrueDOCAFull = cosmics[\"TrueDOCAs\"].array() \n",
    "RecoDOCAFull = cosmics[\"FitDOCAs\"].array() \n",
    "TrueA0Full = cosmics[\"TrueA0\"].array()\n",
    "TrueA1Full = cosmics[\"TrueA1\"].array() \n",
    "TrueB0Full = cosmics[\"TrueB0\"].array() \n",
    "TrueB1Full = cosmics[\"TrueB1\"].array() \n",
    "\n",
    "RecoA0Full = cosmics[\"MinuitA0\"].array()\n",
    "RecoA1Full = cosmics[\"MinuitA1\"].array() \n",
    "RecoB0Full = cosmics[\"MinuitB0\"].array() \n",
    "RecoB1Full = cosmics[\"MinuitB1\"].array() \n",
    "\n",
    "selected = []\n",
    "for i,h in enumerate(momFull):\n",
    "        if h > 2000:\n",
    "                v = (RecoB0Full[i] - TrueB0Full[i])\n",
    "                selected.append(v)\n",
    "        \n",
    "fig, ax = plt.subplots(1,1)\n",
    "n, bins, patches = ax.hist(x=selected,\n",
    "                           bins=50, \n",
    "                           range=(-50,50), \n",
    "                           label=\"cosmics\")\n",
    "fig.show()"
   ]
  },
  {
   "cell_type": "code",
   "execution_count": 44,
   "metadata": {},
   "outputs": [
    {
     "name": "stderr",
     "output_type": "stream",
     "text": [
      "/Users/user/ski_examples/tutorial/lib/python3.7/site-packages/ipykernel_launcher.py:33: UserWarning: Matplotlib is currently using module://ipykernel.pylab.backend_inline, which is a non-GUI backend, so cannot show the figure.\n"
     ]
    },
    {
     "data": {
      "image/png": "[encoded data removed]",
      "text/plain": [
       "<Figure size 432x288 with 1 Axes>"
      ]
     },
     "metadata": {
      "needs_background": "light"
     },
     "output_type": "display_data"
    }
   ],
   "source": [
    "import uproot\n",
    "import matplotlib.pyplot as plt\n",
    "\n",
    "\n",
    "file = uproot.open(\"../RootFiles/HigherStatLooseCutsNewCluster.root\")\n",
    "\n",
    "cosmics = file[\"CosmicTrackDetails\"][\"cosmic_tree\"] # opens the 'trkana' tree in the 'TrkAnaNeg' folder\n",
    "\n",
    "momFull = cosmics[\"Momentum\"].array() \n",
    "TrueDOCAFull = cosmics[\"TrueDOCAs\"].array() \n",
    "RecoDOCAFull = cosmics[\"FitDOCAs\"].array() \n",
    "TrueA0Full = cosmics[\"TrueA0\"].array()\n",
    "TrueA1Full = cosmics[\"TrueA1\"].array() \n",
    "TrueB0Full = cosmics[\"TrueB0\"].array() \n",
    "TrueB1Full = cosmics[\"TrueB1\"].array() \n",
    "\n",
    "RecoA0Full = cosmics[\"MinuitA0\"].array()\n",
    "RecoA1Full = cosmics[\"MinuitA1\"].array() \n",
    "RecoB0Full = cosmics[\"MinuitB0\"].array() \n",
    "RecoB1Full = cosmics[\"MinuitB1\"].array() \n",
    "\n",
    "selected = []\n",
    "for i,h in enumerate(momFull):\n",
    "        if h > 2000:\n",
    "                v = (RecoA1Full[i] - TrueA1Full[i])\n",
    "                selected.append(v)\n",
    "        \n",
    "fig, ax = plt.subplots(1,1)\n",
    "n, bins, patches = ax.hist(x=selected,\n",
    "                           bins=50, \n",
    "                           range=(-5,5), \n",
    "                           label=\"cosmics\")\n",
    "fig.show()"
   ]
  },
  {
   "cell_type": "code",
   "execution_count": 52,
   "metadata": {},
   "outputs": [
    {
     "name": "stderr",
     "output_type": "stream",
     "text": [
      "/Users/user/ski_examples/tutorial/lib/python3.7/site-packages/ipykernel_launcher.py:33: UserWarning: Matplotlib is currently using module://ipykernel.pylab.backend_inline, which is a non-GUI backend, so cannot show the figure.\n"
     ]
    },
    {
     "data": {
      "image/png": "[encoded data removed]",
      "text/plain": [
       "<Figure size 432x288 with 1 Axes>"
      ]
     },
     "metadata": {
      "needs_background": "light"
     },
     "output_type": "display_data"
    }
   ],
   "source": [
    "import uproot\n",
    "import matplotlib.pyplot as plt\n",
    "\n",
    "\n",
    "file = uproot.open(\"../RootFiles/HigherStatLooseCutsNewCluster.root\")\n",
    "\n",
    "cosmics = file[\"CosmicTrackDetails\"][\"cosmic_tree\"] # opens the 'trkana' tree in the 'TrkAnaNeg' folder\n",
    "\n",
    "momFull = cosmics[\"Momentum\"].array() \n",
    "TrueDOCAFull = cosmics[\"TrueDOCAs\"].array() \n",
    "RecoDOCAFull = cosmics[\"FitDOCAs\"].array() \n",
    "TrueA0Full = cosmics[\"TrueA0\"].array()\n",
    "TrueA1Full = cosmics[\"TrueA1\"].array() \n",
    "TrueB0Full = cosmics[\"TrueB0\"].array() \n",
    "TrueB1Full = cosmics[\"TrueB1\"].array() \n",
    "\n",
    "RecoA0Full = cosmics[\"MinuitA0\"].array()\n",
    "RecoA1Full = cosmics[\"MinuitA1\"].array() \n",
    "RecoB0Full = cosmics[\"MinuitB0\"].array() \n",
    "RecoB1Full = cosmics[\"MinuitB1\"].array() \n",
    "\n",
    "selected = []\n",
    "for i,h in enumerate(momFull):\n",
    "        if h > 1000:\n",
    "                v = (RecoB1Full[i] - TrueB1Full[i])\n",
    "                selected.append(v)\n",
    "        \n",
    "fig, ax = plt.subplots(1,1)\n",
    "n, bins, patches = ax.hist(x=selected,\n",
    "                           bins=50, \n",
    "                           range=(-0.5,0.5), \n",
    "                           label=\"cosmics\")\n",
    "fig.show()"
   ]
  },
  {
   "cell_type": "code",
   "execution_count": null,
   "metadata": {},
   "outputs": [],
   "source": []
  }
 ],
 "metadata": {
  "kernelspec": {
   "display_name": "Python 3",
   "language": "python",
   "name": "python3"
  },
  "language_info": {
   "codemirror_mode": {
    "name": "ipython",
    "version": 3
   },
   "file_extension": ".py",
   "mimetype": "text/x-python",
   "name": "python",
   "nbconvert_exporter": "python",
   "pygments_lexer": "ipython3",
   "version": "3.7.4"
  }
 },
 "nbformat": 4,
 "nbformat_minor": 2
}
